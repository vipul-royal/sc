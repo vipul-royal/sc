a=float(input('enter the value of a : '))
b=float(input('enter the value of b : '))
print('The values of a and b before swapping is : ')
print(a,'and',b)

a=a+b
b=a-b
a=a-b
print('The values of a and b after swapping is : ')
print(a,'and',b)